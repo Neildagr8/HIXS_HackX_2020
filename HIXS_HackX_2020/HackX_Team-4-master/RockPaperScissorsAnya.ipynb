{
  "nbformat": 4,
  "nbformat_minor": 0,
  "metadata": {
    "colab": {
      "name": "RockPaperScissorsAnya.ipynb",
      "provenance": [],
      "collapsed_sections": [],
      "include_colab_link": true
    },
    "kernelspec": {
      "name": "python3",
      "display_name": "Python 3"
    }
  },
  "cells": [
    {
      "cell_type": "markdown",
      "metadata": {
        "id": "view-in-github",
        "colab_type": "text"
      },
      "source": [
        "<a href=\"https://colab.research.google.com/github/Anyamittal/HackX_Team-4/blob/master/RockPaperScissorsAnya.ipynb\" target=\"_parent\"><img src=\"https://colab.research.google.com/assets/colab-badge.svg\" alt=\"Open In Colab\"/></a>"
      ]
    },
    {
      "cell_type": "code",
      "metadata": {
        "id": "RzkyfUP_gocJ",
        "colab_type": "code",
        "outputId": "0d7f991c-e25c-415f-b082-d3611cd978e2",
        "colab": {
          "base_uri": "https://localhost:8080/",
          "height": 53
        }
      },
      "source": [
        "import random\n",
        "\n",
        "while True:\n",
        "  print(\"Enter your choice\")\n",
        "  choice = input()\n",
        "  choice = choice.lower()\n",
        "  #print(\"Your choice is\", choice)\n",
        "  choices = ['rock','paper','scissors']\n",
        "  computer_choice = choices[random.randint(0, len(choices)-1)]\n",
        "  print(\"Computer choice is\", computer_choice)\n",
        "\n",
        "  if choice in choices:\n",
        "    if choice == computer_choice:\n",
        "      print(\"It is a tie.\")\n",
        "    \n",
        "    if choice == 'rock':\n",
        "       if computer_choice == 'paper':\n",
        "        print(\"You lose.🙁\")\n",
        "       elif computer_choice == 'scissors':\n",
        "          print (\"You win!🥳\")\n",
        "      \n",
        "    if choice == 'paper':\n",
        "      if computer_choice == 'scissors':\n",
        "          print(\"You lose.🙁\")\n",
        "      elif computer_choice == 'rock':\n",
        "            print (\"You win!🥳\")\n",
        "   \n",
        "    if choice == 'scissors':\n",
        "      if computer_choice == 'rock':\n",
        "          print(\"You lose.🙁\")\n",
        "      elif computer_choice == 'paper':\n",
        "            print (\"You win!🥳\")  \n",
        "  else:\n",
        "    print(\"Your choice was invalid, try again.\")\n",
        "  print()      "
      ],
      "execution_count": 0,
      "outputs": [
        {
          "output_type": "stream",
          "text": [
            "Enter your choice\n"
          ],
          "name": "stdout"
        }
      ]
    }
  ]
}