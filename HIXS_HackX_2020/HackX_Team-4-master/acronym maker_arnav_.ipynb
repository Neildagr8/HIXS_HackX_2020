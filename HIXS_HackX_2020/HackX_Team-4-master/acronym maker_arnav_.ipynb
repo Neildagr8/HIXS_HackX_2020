{
  "nbformat": 4,
  "nbformat_minor": 0,
  "metadata": {
    "colab": {
      "name": "Untitled0.ipynb",
      "provenance": [],
      "authorship_tag": "ABX9TyMT8+uDBb6fB+hv8uHIGbG+",
      "include_colab_link": true
    },
    "kernelspec": {
      "name": "python3",
      "display_name": "Python 3"
    }
  },
  "cells": [
    {
      "cell_type": "markdown",
      "metadata": {
        "id": "view-in-github",
        "colab_type": "text"
      },
      "source": [
        "<a href=\"https://colab.research.google.com/github/Anyamittal/HackX_Team-4/blob/master/Untitled0.ipynb\" target=\"_parent\"><img src=\"https://colab.research.google.com/assets/colab-badge.svg\" alt=\"Open In Colab\"/></a>"
      ]
    },
    {
      "cell_type": "code",
      "metadata": {
        "id": "HtX6RtIknpfQ",
        "colab_type": "code",
        "colab": {}
      },
      "source": [
        "from __future__ import print_function\n",
        "try:\n",
        "    input = raw_input\n",
        "except:\n",
        "    pass\n",
        "def acronym(phrase):\n",
        "    return ''.join(word[0] for word in phrase.upper().split())\n",
        "def main():\n",
        "    print(\"This program creates an acronym for a phrase\")\n",
        "    print(\"entered by the user.\")\n",
        "    print(acronym(input(\"Please enter your phrase: \")))\n",
        "main()"
      ],
      "execution_count": 0,
      "outputs": []
    }
  ]
}
